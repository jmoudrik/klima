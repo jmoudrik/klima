{
 "cells": [
  {
   "cell_type": "code",
   "execution_count": 1,
   "metadata": {},
   "outputs": [],
   "source": [
    "# vyteznost sucheho dreva  smrk na hektar\n",
    "# https://www.okhelp.cz/dum-zahrada/kolik-je-kubiku-m3-dreva-z-hektaru-lesa-vyteznost/\n",
    "smrk_tuny_suchyho_na_ha = 176\n",
    "\n",
    "# https://www.engineeringtoolbox.com/co2-emission-fuels-d_1085.html\n",
    "# hmotnost dreva => kolik spalenim dostanu CO2\n",
    "suchy_drevo_co2_nakg = 1.83\n",
    "\n",
    "# kolika tunam CO2 odpovida 1 ha\n",
    "smrk_tuny_co2_na_ha = smrk_tuny_suchyho_na_ha * suchy_drevo_co2_nakg"
   ]
  },
  {
   "cell_type": "code",
   "execution_count": 2,
   "metadata": {},
   "outputs": [],
   "source": [
    "# https://www.icao.int/annual-report-2019/Pages/the-world-of-air-transport-in-2019.aspx\n",
    "# celkovy kilometro-lidi za rok\n",
    "rpk = 9000 * 10**9\n",
    "\n",
    "# https://krokyproklima.cz/data.js > Dopravni prostredky > letadlo_co2_km_equiv\n",
    "# letecky emise kgco2 / passenger-km \n",
    "letadlo_co2_km_equiv = 0.27\n",
    "\n",
    "# celkovy emise CO2\n",
    "litani_2019_co2_tuny = rpk * letadlo_co2_km_equiv / 1000"
   ]
  },
  {
   "cell_type": "code",
   "execution_count": 3,
   "metadata": {},
   "outputs": [
    {
     "data": {
      "text/plain": [
       "(7544709.388971683, 75447.09388971682)"
      ]
     },
     "execution_count": 3,
     "metadata": {},
     "output_type": "execute_result"
    }
   ],
   "source": [
    "ha_novyho_lesa =  litani_2019_co2_tuny / smrk_tuny_co2_na_ha\n",
    "km2_novyho_lesa = ha_novyho_lesa / 100\n",
    "\n",
    "ha_novyho_lesa, km2_novyho_lesa"
   ]
  },
  {
   "cell_type": "code",
   "execution_count": 4,
   "metadata": {},
   "outputs": [
    {
     "data": {
      "text/plain": [
       "91.76068376068376"
      ]
     },
     "execution_count": 4,
     "metadata": {},
     "output_type": "execute_result"
    }
   ],
   "source": [
    "praha_ny_zpatecni_letenka_emise_kg = letadlo_co2_km_equiv * 2 * 6500\n",
    "\n",
    "# kolik zpatecnich letenek Pha <> NY odpovida 1 ha lesa\n",
    "1 / (praha_ny_zpatecni_letenka_emise_kg / 1000 / smrk_tuny_co2_na_ha)"
   ]
  },
  {
   "cell_type": "code",
   "execution_count": 5,
   "metadata": {
    "scrolled": true
   },
   "outputs": [],
   "source": [
    "cr_plocha_km2 = 79000\n",
    "rusko_plocha_km2 = 17*10**6"
   ]
  },
  {
   "cell_type": "code",
   "execution_count": 6,
   "metadata": {},
   "outputs": [
    {
     "data": {
      "text/plain": [
       "0.9550265049331244"
      ]
     },
     "execution_count": 6,
     "metadata": {},
     "output_type": "execute_result"
    }
   ],
   "source": [
    "# litani 2019 => ploch CR novyho lesa\n",
    "km2_novyho_lesa / cr_plocha_km2"
   ]
  },
  {
   "cell_type": "code",
   "execution_count": 7,
   "metadata": {},
   "outputs": [
    {
     "data": {
      "text/plain": [
       "225.32345679012352"
      ]
     },
     "execution_count": 7,
     "metadata": {},
     "output_type": "execute_result"
    }
   ],
   "source": [
    "# kolik let litani 2019 odpovida plocham Ruska novyho lesa\n",
    "1 / (km2_novyho_lesa / rusko_plocha_km2)"
   ]
  },
  {
   "cell_type": "code",
   "execution_count": null,
   "metadata": {},
   "outputs": [],
   "source": []
  }
 ],
 "metadata": {
  "kernelspec": {
   "display_name": "Python 3",
   "language": "python",
   "name": "python3"
  },
  "language_info": {
   "codemirror_mode": {
    "name": "ipython",
    "version": 3
   },
   "file_extension": ".py",
   "mimetype": "text/x-python",
   "name": "python",
   "nbconvert_exporter": "python",
   "pygments_lexer": "ipython3",
   "version": "3.7.9"
  }
 },
 "nbformat": 4,
 "nbformat_minor": 4
}
